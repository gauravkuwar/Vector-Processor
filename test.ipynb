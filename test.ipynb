{
 "cells": [
  {
   "cell_type": "code",
   "execution_count": 64,
   "id": "2d12b67c-e376-4707-8678-985d4b06a89e",
   "metadata": {},
   "outputs": [],
   "source": [
    "import pandas as pd"
   ]
  },
  {
   "cell_type": "code",
   "execution_count": 65,
   "id": "588f446a-3d19-403f-bb22-fb819630536c",
   "metadata": {},
   "outputs": [],
   "source": [
    "isa = pd.read_excel(\"isa.xlsx\")"
   ]
  },
  {
   "cell_type": "code",
   "execution_count": 86,
   "id": "aee8f3ab-8b07-4cd8-9dd6-200bc7f745cc",
   "metadata": {},
   "outputs": [
    {
     "name": "stdout",
     "output_type": "stream",
     "text": [
      "{\"ADDVV\", \"R\"},\n",
      "{\"SUBVV\", \"R\"},\n",
      "{\"MULVV\", \"R\"},\n",
      "{\"DIVVV\", \"R\"},\n",
      "{\"ADDVS\", \"R\"},\n",
      "{\"SUBVS\", \"R\"},\n",
      "{\"MULVS\", \"R\"},\n",
      "{\"DIVVS\", \"R\"},\n",
      "{\"SEQVV\", \"R\"},\n",
      "{\"SNEVV\", \"R\"},\n",
      "{\"SGTVV\", \"R\"},\n",
      "{\"SLTVV\", \"R\"},\n",
      "{\"SGEVV\", \"R\"},\n",
      "{\"SLEVV\", \"R\"},\n",
      "{\"SEQVS\", \"R\"},\n",
      "{\"SNEVS\", \"R\"},\n",
      "{\"SGTVS\", \"R\"},\n",
      "{\"SLTVS\", \"R\"},\n",
      "{\"SGEVS\", \"R\"},\n",
      "{\"SLEVS\", \"R\"},\n",
      "{\"CVM\", \"R\"},\n",
      "{\"POP\", \"R\"},\n",
      "{\"MTCL\", \"R\"},\n",
      "{\"MFCL\", \"R\"},\n",
      "{\"LV\", \"R\"},\n",
      "{\"SV\", \"R\"},\n",
      "{\"LVWS\", \"R\"},\n",
      "{\"SVWS\", \"R\"},\n",
      "{\"LVI\", \"R\"},\n",
      "{\"SVI\", \"R\"},\n",
      "{\"LS\", \"I\"},\n",
      "{\"SS\", \"I\"},\n",
      "{\"ADD\", \"R\"},\n",
      "{\"SUB\", \"R\"},\n",
      "{\"AND\", \"R\"},\n",
      "{\"OR\", \"R\"},\n",
      "{\"XOR\", \"R\"},\n",
      "{\"SLL\", \"R\"},\n",
      "{\"SRL\", \"R\"},\n",
      "{\"SRA\", \"R\"},\n",
      "{\"BEQ\", \"I\"},\n",
      "{\"BNE\", \"I\"},\n",
      "{\"BGT\", \"I\"},\n",
      "{\"BLT\", \"I\"},\n",
      "{\"BGE\", \"I\"},\n",
      "{\"BLE\", \"I\"},\n",
      "{\"UNPACKLO\", \"R\"},\n",
      "{\"UNPACKHI\", \"R\"},\n",
      "{\"PACKLO\", \"R\"},\n",
      "{\"PACKHI\", \"R\"},\n",
      "{\"HALT\", \"R\"},\n"
     ]
    }
   ],
   "source": [
    "for row in isa[1:].replace({float('nan'): None}).itertuples(index=False, name=None):\n",
    "    if row[1] == None: \n",
    "        continue\n",
    "        \n",
    "    name = row[1]\n",
    "    instr_type = row[2]\n",
    "    opcode = row[3][1:-1]\n",
    "    print('{\"' + name + '\", \"' + instr_type + '\"},')\n",
    "\n",
    "    # if instr_type == \"R\":\n",
    "    #     funct6 = row[8][1:-1]\n",
    "    #     # print(f\"{name=}, {instr_type=}, {opcode=}, {funct6=}\")\n",
    "    #     print('{\\n\\t\"' + name + '\", {\\n\\t\\t{\"opcode\", 0b' + opcode + '}, \\n\\t\\t{\"funct6\", 0b' + funct6 + '}\\n\\t},\\n},')\n",
    "    # else:\n",
    "    #     print('{\\n\\t\"' + name + '\", {\\n\\t\\t{\"opcode\", 0b' + opcode + '}, \\n\\t},\\n},')\n",
    "\n",
    "\n"
   ]
  },
  {
   "cell_type": "code",
   "execution_count": null,
   "id": "29bcf8b1-7b0b-42a3-9791-e8040e797718",
   "metadata": {},
   "outputs": [],
   "source": []
  },
  {
   "cell_type": "code",
   "execution_count": 94,
   "id": "5c6a59a3-6abd-4d16-b90e-7286dc3e7519",
   "metadata": {},
   "outputs": [
    {
     "name": "stdout",
     "output_type": "stream",
     "text": [
      "0:\t0x14008000\n",
      "1:\t0x14020001\n",
      "2:\t0x0c100002\n",
      "3:\t0x88004400\n",
      "4:\t0x88404800\n",
      "5:\t0x81194c02\n",
      "6:\t0x08000801\n",
      "7:\t0x0c200002\n",
      "8:\t0x00409000\n",
      "9:\t0x14018001\n",
      "10:\t0x88104400\n",
      "11:\t0x88404800\n",
      "12:\t0x81195002\n",
      "13:\t0x813a4c00\n",
      "14:\t0x00110400\n",
      "15:\t0x00411000\n",
      "16:\t0x2430fffa\n",
      "17:\t0x14028002\n",
      "18:\t0x14008003\n",
      "19:\t0x8138540c\n",
      "20:\t0x8138580d\n",
      "21:\t0x815b4c00\n",
      "22:\t0x00609800\n",
      "23:\t0x2453fffc\n",
      "24:\t0x14008004\n",
      "25:\t0x8c104c00\n",
      "26:\t0xffffffff\n"
     ]
    }
   ],
   "source": [
    "import struct\n",
    "\n",
    "def read_binary_file(filename, inHex):\n",
    "    instructions = []\n",
    "    \n",
    "    with open(filename, 'rb') as f:\n",
    "        # Read 4 bytes at a time (32-bit instructions)\n",
    "        line_num = 0\n",
    "        while (instr_bytes := f.read(4)):\n",
    "            # Unpack as little-endian 32-bit unsigned integer\n",
    "            instruction = struct.unpack('<I', instr_bytes)[0]\n",
    "            instructions.append(instruction)\n",
    "            \n",
    "            # Optional: print in binary format\n",
    "            if not inHex:\n",
    "                print(f\"{line_num}:\\t{instruction:032b}\")  # 32-bit binary\n",
    "            else:\n",
    "                # # Or in hex\n",
    "                print(f\"{line_num}:\\t0x{instruction:08x}\") # 8-digit hex\n",
    "\n",
    "            line_num += 1\n",
    "    \n",
    "    return instructions\n",
    "\n",
    "# Example usage\n",
    "if __name__ == \"__main__\":\n",
    "    instructions = read_binary_file(\"dot_product/Code.bin\", inHex=True)"
   ]
  },
  {
   "cell_type": "code",
   "execution_count": null,
   "id": "566614a5-1444-4468-8d51-b3258779707d",
   "metadata": {},
   "outputs": [],
   "source": []
  }
 ],
 "metadata": {
  "kernelspec": {
   "display_name": "Python 3 (ipykernel)",
   "language": "python",
   "name": "python3"
  },
  "language_info": {
   "codemirror_mode": {
    "name": "ipython",
    "version": 3
   },
   "file_extension": ".py",
   "mimetype": "text/x-python",
   "name": "python",
   "nbconvert_exporter": "python",
   "pygments_lexer": "ipython3",
   "version": "3.11.8"
  }
 },
 "nbformat": 4,
 "nbformat_minor": 5
}
